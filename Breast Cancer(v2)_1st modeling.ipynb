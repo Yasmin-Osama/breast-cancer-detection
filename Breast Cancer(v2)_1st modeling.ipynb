{
 "cells": [
  {
   "cell_type": "markdown",
   "id": "bc1011d2",
   "metadata": {},
   "source": [
    "> # ENTRO"
   ]
  },
  {
   "cell_type": "code",
   "execution_count": 1,
   "id": "532aa264",
   "metadata": {},
   "outputs": [],
   "source": [
    "#entro"
   ]
  },
  {
   "cell_type": "code",
   "execution_count": null,
   "id": "8c33f3f6",
   "metadata": {},
   "outputs": [],
   "source": [
    "#entro"
   ]
  },
  {
   "cell_type": "code",
   "execution_count": null,
   "id": "81768238",
   "metadata": {},
   "outputs": [],
   "source": [
    "#entro"
   ]
  },
  {
   "cell_type": "markdown",
   "id": "aae5ed41",
   "metadata": {},
   "source": [
    "> # CODE"
   ]
  },
  {
   "cell_type": "markdown",
   "id": "3c92b3ea",
   "metadata": {},
   "source": [
    "# Import  Libraries "
   ]
  },
  {
   "cell_type": "code",
   "execution_count": 28,
   "id": "5a13a5f4",
   "metadata": {},
   "outputs": [],
   "source": [
    "import os\n",
    "import shutil\n",
    "import pandas as pd"
   ]
  },
  {
   "cell_type": "markdown",
   "id": "2a2aa84c",
   "metadata": {},
   "source": [
    "# Get & Adjust Data"
   ]
  },
  {
   "cell_type": "code",
   "execution_count": 29,
   "id": "90ea2b5c",
   "metadata": {},
   "outputs": [],
   "source": [
    "# datasets directorys\n",
    "cancer_rays_dir     = os.listdir(\"Desktop\\\\final_proj\\\\breast_hostopathology_images_dataset\\\\\") \n",
    "all_rays_dir        = \"Desktop\\\\final_proj\\\\all_rays_dir\" \n",
    "cancer_rays_dir_str =\"Desktop\\\\final_proj\\\\breast_hostopathology_images_dataset\\\\\""
   ]
  },
  {
   "cell_type": "code",
   "execution_count": 5,
   "id": "3af29306",
   "metadata": {},
   "outputs": [
    {
     "name": "stdout",
     "output_type": "stream",
     "text": [
      "['10253', '10254', '10255', '10256', '10257', '10258', '10259', '10260', '10261', '10262', '10264', '10268', '10269', '10272', '10273', '10274', '10275', '10276', '10277', '10278', '10279', '10282', '10285', '10286', '10288', '10290', '10291', '10292', '10293', '10295', '10299', '10300', '10301', '10302', '10303', '10304', '10305', '10306', '10307', '10308', '12241', '12242', '12626', '12748', '12749', '12750', '12751', '12752', '12810', '12811', '12817', '12818', '12819', '12820', '12821', '12822', '12823', '12824', '12826', '12867', '12868', '12869', '12870', '12871', '12872', '12873', '12875', '12876', '12877', '12878', '12879', '12880', '12881', '12882', '12883', '12884', '12886', '12890', '12891', '12892', '12893', '12894', '12895', '12896', '12897', '12898', '12900', '12901', '12905', '12906', '12907', '12908', '12909', '12910', '12911', '12929', '12930', '12931', '12932', '12933', '12934', '12935', '12947', '12948', '12949', '12951', '12954', '12955', '13018', '13019', '13020', '13021', '13022', '13023', '13024', '13025', '13106', '13400', '13401', '13402', '13403', '13404', '13458', '13459', '13460', '13461', '13462', '13591', '13613', '13616', '13617', '13666', '13687', '13688', '13689', '13691', '13692', '13693', '13694', '13916', '14078', '14079', '14081', '14082', '14153', '14154', '14155', '14156', '14157', '14188', '14189', '14190', '14191', '14192', '14209', '14210', '14211', '14212', '14213', '14304', '14305', '14306', '14321', '15471', '15472', '15473', '15510', '15512', '15513', '15514', '15515', '15516', '15632', '15633', '15634', '15839', '15840', '15902', '15903', '16014', '16085', '16165', '16166', '16167', '16531', '16532', '16533', '16534', '16550', '16551', '16552', '16553', '16554', '16555', '16568', '16569', '16570', '16895', '16896', '8863', '8864', '8865', '8867', '8913', '8914', '8916', '8917', '8918', '8950', '8951', '8955', '8956', '8957', '8959', '8974', '8975', '8980', '8984', '9022', '9023', '9029', '9035', '9036', '9037', '9041', '9043', '9044', '9073', '9075', '9076', '9077', '9078', '9081', '9083', '9123', '9124', '9125', '9126', '9135', '9173', '9174', '9175', '9176', '9177', '9178', '9181', '9225', '9226', '9227', '9228', '9250', '9254', '9255', '9256', '9257', '9258', '9259', '9260', '9261', '9262', '9265', '9266', '9267', '9290', '9291', '9319', '9320', '9321', '9322', '9323', '9324', '9325', '9344', '9345', '9346', '9347', '9381', '9382', '9383']\n",
      "279\n"
     ]
    }
   ],
   "source": [
    "print(cancer_rays_dir)\n",
    "print(len(cancer_rays_dir))"
   ]
  },
  {
   "cell_type": "code",
   "execution_count": 30,
   "id": "2481bada",
   "metadata": {},
   "outputs": [],
   "source": [
    "os.mkdir(all_rays_dir)\n",
    "all_rays_dir_lst = os.listdir('Desktop\\\\final_proj\\\\all_rays_dir')"
   ]
  },
  {
   "cell_type": "code",
   "execution_count": 21,
   "id": "434d021f",
   "metadata": {},
   "outputs": [],
   "source": [
    "for patient in cancer_rays_dir:   \n",
    "    path_0 = cancer_rays_dir_str + str(patient) + '/0'\n",
    "    path_1 = cancer_rays_dir_str + str(patient) + '/1'\n",
    "    file_list_0 = os.listdir(path_0)   \n",
    "    file_list_1 = os.listdir(path_1)\n",
    "    for fname in file_list_0:\n",
    "            src = os.path.join(path_0, fname)\n",
    "            dst = os.path.join(all_rays_dir, fname)\n",
    "            shutil.copyfile(src, dst)\n",
    "    for fname in file_list_1:\n",
    "        src = os.path.join(path_1, fname)\n",
    "        dst = os.path.join(all_rays_dir, fname)\n",
    "        shutil.copyfile(src, dst)"
   ]
  },
  {
   "cell_type": "code",
   "execution_count": 31,
   "id": "eafcd281",
   "metadata": {},
   "outputs": [
    {
     "data": {
      "text/plain": [
       "277524"
      ]
     },
     "execution_count": 31,
     "metadata": {},
     "output_type": "execute_result"
    }
   ],
   "source": [
    "len(all_rays_dir_lst)"
   ]
  },
  {
   "cell_type": "code",
   "execution_count": 32,
   "id": "0e00ab02",
   "metadata": {},
   "outputs": [
    {
     "data": {
      "text/html": [
       "<div>\n",
       "<style scoped>\n",
       "    .dataframe tbody tr th:only-of-type {\n",
       "        vertical-align: middle;\n",
       "    }\n",
       "\n",
       "    .dataframe tbody tr th {\n",
       "        vertical-align: top;\n",
       "    }\n",
       "\n",
       "    .dataframe thead th {\n",
       "        text-align: right;\n",
       "    }\n",
       "</style>\n",
       "<table border=\"1\" class=\"dataframe\">\n",
       "  <thead>\n",
       "    <tr style=\"text-align: right;\">\n",
       "      <th></th>\n",
       "      <th>image_id</th>\n",
       "    </tr>\n",
       "  </thead>\n",
       "  <tbody>\n",
       "    <tr>\n",
       "      <th>0</th>\n",
       "      <td>10253_idx5_x1001_y1001_class0.png</td>\n",
       "    </tr>\n",
       "    <tr>\n",
       "      <th>1</th>\n",
       "      <td>10253_idx5_x1001_y1051_class0.png</td>\n",
       "    </tr>\n",
       "    <tr>\n",
       "      <th>2</th>\n",
       "      <td>10253_idx5_x1001_y1101_class0.png</td>\n",
       "    </tr>\n",
       "    <tr>\n",
       "      <th>3</th>\n",
       "      <td>10253_idx5_x1001_y1151_class0.png</td>\n",
       "    </tr>\n",
       "    <tr>\n",
       "      <th>4</th>\n",
       "      <td>10253_idx5_x1001_y1201_class0.png</td>\n",
       "    </tr>\n",
       "  </tbody>\n",
       "</table>\n",
       "</div>"
      ],
      "text/plain": [
       "                            image_id\n",
       "0  10253_idx5_x1001_y1001_class0.png\n",
       "1  10253_idx5_x1001_y1051_class0.png\n",
       "2  10253_idx5_x1001_y1101_class0.png\n",
       "3  10253_idx5_x1001_y1151_class0.png\n",
       "4  10253_idx5_x1001_y1201_class0.png"
      ]
     },
     "execution_count": 32,
     "metadata": {},
     "output_type": "execute_result"
    }
   ],
   "source": [
    "data = pd.DataFrame(all_rays_dir_lst, columns=['image_id'])\n",
    "data.head()"
   ]
  },
  {
   "cell_type": "code",
   "execution_count": 33,
   "id": "295bacb4",
   "metadata": {},
   "outputs": [
    {
     "data": {
      "text/html": [
       "<div>\n",
       "<style scoped>\n",
       "    .dataframe tbody tr th:only-of-type {\n",
       "        vertical-align: middle;\n",
       "    }\n",
       "\n",
       "    .dataframe tbody tr th {\n",
       "        vertical-align: top;\n",
       "    }\n",
       "\n",
       "    .dataframe thead th {\n",
       "        text-align: right;\n",
       "    }\n",
       "</style>\n",
       "<table border=\"1\" class=\"dataframe\">\n",
       "  <thead>\n",
       "    <tr style=\"text-align: right;\">\n",
       "      <th></th>\n",
       "      <th>image_id</th>\n",
       "      <th>target</th>\n",
       "    </tr>\n",
       "  </thead>\n",
       "  <tbody>\n",
       "    <tr>\n",
       "      <th>0</th>\n",
       "      <td>10253_idx5_x1001_y1001_class0.png</td>\n",
       "      <td>0</td>\n",
       "    </tr>\n",
       "    <tr>\n",
       "      <th>1</th>\n",
       "      <td>10253_idx5_x1001_y1051_class0.png</td>\n",
       "      <td>0</td>\n",
       "    </tr>\n",
       "    <tr>\n",
       "      <th>2</th>\n",
       "      <td>10253_idx5_x1001_y1101_class0.png</td>\n",
       "      <td>0</td>\n",
       "    </tr>\n",
       "    <tr>\n",
       "      <th>3</th>\n",
       "      <td>10253_idx5_x1001_y1151_class0.png</td>\n",
       "      <td>0</td>\n",
       "    </tr>\n",
       "    <tr>\n",
       "      <th>4</th>\n",
       "      <td>10253_idx5_x1001_y1201_class0.png</td>\n",
       "      <td>0</td>\n",
       "    </tr>\n",
       "    <tr>\n",
       "      <th>5</th>\n",
       "      <td>10253_idx5_x1001_y1251_class0.png</td>\n",
       "      <td>0</td>\n",
       "    </tr>\n",
       "    <tr>\n",
       "      <th>6</th>\n",
       "      <td>10253_idx5_x1001_y1301_class0.png</td>\n",
       "      <td>0</td>\n",
       "    </tr>\n",
       "    <tr>\n",
       "      <th>7</th>\n",
       "      <td>10253_idx5_x1001_y1351_class0.png</td>\n",
       "      <td>0</td>\n",
       "    </tr>\n",
       "    <tr>\n",
       "      <th>8</th>\n",
       "      <td>10253_idx5_x1001_y1501_class0.png</td>\n",
       "      <td>0</td>\n",
       "    </tr>\n",
       "    <tr>\n",
       "      <th>9</th>\n",
       "      <td>10253_idx5_x1001_y1551_class0.png</td>\n",
       "      <td>0</td>\n",
       "    </tr>\n",
       "  </tbody>\n",
       "</table>\n",
       "</div>"
      ],
      "text/plain": [
       "                            image_id target\n",
       "0  10253_idx5_x1001_y1001_class0.png      0\n",
       "1  10253_idx5_x1001_y1051_class0.png      0\n",
       "2  10253_idx5_x1001_y1101_class0.png      0\n",
       "3  10253_idx5_x1001_y1151_class0.png      0\n",
       "4  10253_idx5_x1001_y1201_class0.png      0\n",
       "5  10253_idx5_x1001_y1251_class0.png      0\n",
       "6  10253_idx5_x1001_y1301_class0.png      0\n",
       "7  10253_idx5_x1001_y1351_class0.png      0\n",
       "8  10253_idx5_x1001_y1501_class0.png      0\n",
       "9  10253_idx5_x1001_y1551_class0.png      0"
      ]
     },
     "execution_count": 33,
     "metadata": {},
     "output_type": "execute_result"
    }
   ],
   "source": [
    "def extract_target(x):\n",
    "    a = x.split('_')\n",
    "    b = a[4]\n",
    "    target = b[5] \n",
    "    return target\n",
    "\n",
    "data['target'] = data['image_id'].apply(extract_target)\n",
    "\n",
    "data.head(10)"
   ]
  },
  {
   "cell_type": "code",
   "execution_count": 34,
   "id": "88b58853",
   "metadata": {},
   "outputs": [
    {
     "data": {
      "text/plain": [
       "0    198738\n",
       "1     78786\n",
       "Name: target, dtype: int64"
      ]
     },
     "execution_count": 34,
     "metadata": {},
     "output_type": "execute_result"
    }
   ],
   "source": [
    "data['target'].value_counts()"
   ]
  },
  {
   "cell_type": "markdown",
   "id": "c2d9ed58",
   "metadata": {},
   "source": [
    "# Image Processing "
   ]
  },
  {
   "cell_type": "code",
   "execution_count": 35,
   "id": "27caf8cd",
   "metadata": {},
   "outputs": [],
   "source": [
    "##"
   ]
  },
  {
   "cell_type": "markdown",
   "id": "a5345ba8",
   "metadata": {},
   "source": [
    "# data spliting"
   ]
  },
  {
   "cell_type": "code",
   "execution_count": 36,
   "id": "f1e371b2",
   "metadata": {},
   "outputs": [],
   "source": [
    "from sklearn.model_selection import train_test_split\n",
    "y = data['target']\n",
    "data_train, data_test = train_test_split(data, test_size=0.10, random_state=101, stratify=y)"
   ]
  },
  {
   "cell_type": "code",
   "execution_count": 37,
   "id": "712bc58d",
   "metadata": {},
   "outputs": [
    {
     "name": "stdout",
     "output_type": "stream",
     "text": [
      "(249771, 2)\n",
      "(27753, 2)\n"
     ]
    }
   ],
   "source": [
    "print(data_train.shape)\n",
    "print(data_test.shape)"
   ]
  },
  {
   "cell_type": "code",
   "execution_count": 39,
   "id": "0668f20f",
   "metadata": {},
   "outputs": [],
   "source": [
    "os.mkdir( 'Desktop\\\\final_proj\\\\train_dir')\n",
    "os.mkdir('Desktop\\\\final_proj\\\\test_dir')"
   ]
  },
  {
   "cell_type": "code",
   "execution_count": 21,
   "id": "ef362917",
   "metadata": {},
   "outputs": [],
   "source": [
    "os.mkdir( 'Desktop\\\\final_proj\\\\train_dir\\\\zeros')\n",
    "os.mkdir( 'Desktop\\\\final_proj\\\\train_dir\\\\ones')\n",
    "\n",
    "os.mkdir( 'Desktop\\\\final_proj\\\\test_dir\\\\zeros')\n",
    "os.mkdir( 'Desktop\\\\final_proj\\\\test_dir\\\\ones')\n"
   ]
  },
  {
   "cell_type": "code",
   "execution_count": 40,
   "id": "db1b8981",
   "metadata": {},
   "outputs": [],
   "source": [
    "train = data_train.image_id\n",
    "test  = data_test.image_id\n"
   ]
  },
  {
   "cell_type": "code",
   "execution_count": 44,
   "id": "03688452",
   "metadata": {},
   "outputs": [],
   "source": [
    "data.set_index('image_id', inplace=True)\n",
    "for image in train:\n",
    "    fname = image\n",
    "    target = data.loc[image,'target']\n",
    "    \n",
    "    if target == '0':\n",
    "        label = 'zeros'\n",
    "    if target == '1':\n",
    "        label = 'ones'\n",
    "    src = os.path.join(all_rays_dir, fname)\n",
    "    dst = os.path.join('Desktop\\\\final_proj\\\\train_dir', label, fname)\n",
    "    shutil.move(src, dst)"
   ]
  },
  {
   "cell_type": "code",
   "execution_count": 46,
   "id": "6db03150",
   "metadata": {},
   "outputs": [],
   "source": [
    "for image in test:\n",
    "    fname = image\n",
    "    target = data.loc[image,'target']\n",
    "    if target == '0':\n",
    "        label = 'zeros'\n",
    "    if target == '1':\n",
    "        label = 'ones'\n",
    "    src = os.path.join(all_rays_dir, fname)\n",
    "    dst = os.path.join(\"Desktop\\\\final_proj\\\\test_dir\", label, fname)\n",
    "    shutil.move(src, dst)\n"
   ]
  },
  {
   "cell_type": "code",
   "execution_count": 48,
   "id": "f3010ed6",
   "metadata": {},
   "outputs": [
    {
     "name": "stdout",
     "output_type": "stream",
     "text": [
      "178864\n",
      "70907\n",
      "19874\n",
      "7879\n"
     ]
    }
   ],
   "source": [
    "print(len(os.listdir('Desktop\\\\final_proj\\\\train_dir\\\\zeros')))\n",
    "print(len(os.listdir('Desktop\\\\final_proj\\\\train_dir\\\\ones')))\n",
    "print(len(os.listdir('Desktop\\\\final_proj\\\\test_dir\\\\zeros')))\n",
    "print(len(os.listdir('Desktop\\\\final_proj\\\\test_dir\\\\ones')))"
   ]
  },
  {
   "cell_type": "markdown",
   "id": "d0ad5682",
   "metadata": {},
   "source": [
    "# data generation"
   ]
  },
  {
   "cell_type": "code",
   "execution_count": 54,
   "id": "df061b21",
   "metadata": {},
   "outputs": [],
   "source": [
    "import tensorflow\n",
    "from tensorflow.keras.preprocessing.image import ImageDataGenerator\n"
   ]
  },
  {
   "cell_type": "code",
   "execution_count": 57,
   "id": "45a480ba",
   "metadata": {},
   "outputs": [],
   "source": [
    "data_generation = ImageDataGenerator(rescale=1.0/255)"
   ]
  },
  {
   "cell_type": "code",
   "execution_count": 58,
   "id": "58c892ef",
   "metadata": {},
   "outputs": [
    {
     "name": "stdout",
     "output_type": "stream",
     "text": [
      "Found 249771 images belonging to 2 classes.\n",
      "Found 27753 images belonging to 2 classes.\n"
     ]
    }
   ],
   "source": [
    "train_generation = data_generation.flow_from_directory(\"Desktop\\\\final_proj\\\\train_dir\",\n",
    "                                        target_size=(25,25),\n",
    "                                        batch_size=10,\n",
    "                                        class_mode='categorical')\n",
    "test_generation = data_generation.flow_from_directory(\"Desktop\\\\final_proj\\\\test_dir\",\n",
    "                                        target_size=(25,25),\n",
    "                                        batch_size=10,\n",
    "                                        class_mode='categorical')\n",
    "\n"
   ]
  },
  {
   "cell_type": "markdown",
   "id": "a9452a64",
   "metadata": {},
   "source": [
    "# modeling"
   ]
  },
  {
   "cell_type": "code",
   "execution_count": 59,
   "id": "ad4bc4d4",
   "metadata": {},
   "outputs": [],
   "source": [
    "from tensorflow.keras.models import Sequential\n",
    "from tensorflow.keras.layers import Dense,Conv2D,MaxPool2D,Flatten,Dropout"
   ]
  },
  {
   "cell_type": "code",
   "execution_count": 67,
   "id": "146900a6",
   "metadata": {},
   "outputs": [],
   "source": [
    "my_model =Sequential()\n",
    "my_model.add(Conv2D(filters=32,kernel_size=(4,4),input_shape=(25,25,3),activation='relu'))\n",
    "my_model.add(MaxPool2D(pool_size=(2,2)))\n",
    "\n",
    "\n",
    "my_model.add(Flatten())\n",
    "\n",
    "my_model.add(Dense(128,activation='relu'))\n",
    "\n",
    "my_model.add(Dense(2,activation='softmax'))\n",
    "\n",
    "my_model.compile(loss = 'categorical_crossentropy', optimizer ='adam', metrics= ['accuracy'])"
   ]
  },
  {
   "cell_type": "code",
   "execution_count": 68,
   "id": "047f7607",
   "metadata": {},
   "outputs": [],
   "source": [
    "from tensorflow.keras.callbacks import EarlyStopping\n",
    "early_stop = EarlyStopping(monitor='val_loss',patience=2)"
   ]
  },
  {
   "cell_type": "code",
   "execution_count": 69,
   "id": "b73de6fa",
   "metadata": {},
   "outputs": [
    {
     "name": "stdout",
     "output_type": "stream",
     "text": [
      "Epoch 1/60\n",
      "24978/24978 [==============================] - 1448s 58ms/step - loss: 0.4198 - accuracy: 0.8158 - val_loss: 0.3896 - val_accuracy: 0.8305\n",
      "Epoch 2/60\n",
      "24978/24978 [==============================] - 282s 11ms/step - loss: 0.3824 - accuracy: 0.8362 - val_loss: 0.3625 - val_accuracy: 0.8445\n",
      "Epoch 3/60\n",
      "24978/24978 [==============================] - 266s 11ms/step - loss: 0.3713 - accuracy: 0.8412 - val_loss: 0.3648 - val_accuracy: 0.8412\n",
      "Epoch 4/60\n",
      "24978/24978 [==============================] - 249s 10ms/step - loss: 0.3636 - accuracy: 0.8445 - val_loss: 0.3512 - val_accuracy: 0.8470\n",
      "Epoch 5/60\n",
      "24978/24978 [==============================] - 320s 13ms/step - loss: 0.3570 - accuracy: 0.8474 - val_loss: 0.3501 - val_accuracy: 0.8514\n",
      "Epoch 6/60\n",
      "24978/24978 [==============================] - 829s 33ms/step - loss: 0.3526 - accuracy: 0.8493 - val_loss: 0.3433 - val_accuracy: 0.8504\n",
      "Epoch 7/60\n",
      "24978/24978 [==============================] - 823s 33ms/step - loss: 0.3487 - accuracy: 0.8504 - val_loss: 0.3424 - val_accuracy: 0.8520\n",
      "Epoch 8/60\n",
      "24978/24978 [==============================] - 869s 35ms/step - loss: 0.3454 - accuracy: 0.8527 - val_loss: 0.3440 - val_accuracy: 0.8530\n",
      "Epoch 9/60\n",
      "24978/24978 [==============================] - 842s 34ms/step - loss: 0.3441 - accuracy: 0.8529 - val_loss: 0.3436 - val_accuracy: 0.8501\n"
     ]
    },
    {
     "data": {
      "text/plain": [
       "<keras.callbacks.History at 0x28b3b57cca0>"
      ]
     },
     "execution_count": 69,
     "metadata": {},
     "output_type": "execute_result"
    }
   ],
   "source": [
    "my_model.fit_generator(train_generation, \n",
    "                    validation_data=test_generation,\n",
    "                    epochs=60, verbose=1,\n",
    "                   callbacks=early_stop)"
   ]
  },
  {
   "cell_type": "code",
   "execution_count": 70,
   "id": "6feba08b",
   "metadata": {},
   "outputs": [
    {
     "data": {
      "text/html": [
       "<div>\n",
       "<style scoped>\n",
       "    .dataframe tbody tr th:only-of-type {\n",
       "        vertical-align: middle;\n",
       "    }\n",
       "\n",
       "    .dataframe tbody tr th {\n",
       "        vertical-align: top;\n",
       "    }\n",
       "\n",
       "    .dataframe thead th {\n",
       "        text-align: right;\n",
       "    }\n",
       "</style>\n",
       "<table border=\"1\" class=\"dataframe\">\n",
       "  <thead>\n",
       "    <tr style=\"text-align: right;\">\n",
       "      <th></th>\n",
       "      <th>loss</th>\n",
       "      <th>accuracy</th>\n",
       "      <th>val_loss</th>\n",
       "      <th>val_accuracy</th>\n",
       "    </tr>\n",
       "  </thead>\n",
       "  <tbody>\n",
       "    <tr>\n",
       "      <th>0</th>\n",
       "      <td>0.419787</td>\n",
       "      <td>0.815783</td>\n",
       "      <td>0.389573</td>\n",
       "      <td>0.830505</td>\n",
       "    </tr>\n",
       "    <tr>\n",
       "      <th>1</th>\n",
       "      <td>0.382361</td>\n",
       "      <td>0.836158</td>\n",
       "      <td>0.362486</td>\n",
       "      <td>0.844485</td>\n",
       "    </tr>\n",
       "    <tr>\n",
       "      <th>2</th>\n",
       "      <td>0.371320</td>\n",
       "      <td>0.841215</td>\n",
       "      <td>0.364781</td>\n",
       "      <td>0.841206</td>\n",
       "    </tr>\n",
       "    <tr>\n",
       "      <th>3</th>\n",
       "      <td>0.363622</td>\n",
       "      <td>0.844510</td>\n",
       "      <td>0.351164</td>\n",
       "      <td>0.847044</td>\n",
       "    </tr>\n",
       "    <tr>\n",
       "      <th>4</th>\n",
       "      <td>0.357006</td>\n",
       "      <td>0.847392</td>\n",
       "      <td>0.350107</td>\n",
       "      <td>0.851367</td>\n",
       "    </tr>\n",
       "  </tbody>\n",
       "</table>\n",
       "</div>"
      ],
      "text/plain": [
       "       loss  accuracy  val_loss  val_accuracy\n",
       "0  0.419787  0.815783  0.389573      0.830505\n",
       "1  0.382361  0.836158  0.362486      0.844485\n",
       "2  0.371320  0.841215  0.364781      0.841206\n",
       "3  0.363622  0.844510  0.351164      0.847044\n",
       "4  0.357006  0.847392  0.350107      0.851367"
      ]
     },
     "execution_count": 70,
     "metadata": {},
     "output_type": "execute_result"
    }
   ],
   "source": [
    "losse = pd.DataFrame(my_model.history.history)\n",
    "losse.head()"
   ]
  },
  {
   "cell_type": "code",
   "execution_count": 71,
   "id": "4932bede",
   "metadata": {},
   "outputs": [
    {
     "data": {
      "text/plain": [
       "<AxesSubplot:>"
      ]
     },
     "execution_count": 71,
     "metadata": {},
     "output_type": "execute_result"
    },
    {
     "data": {
      "image/png": "[encoded data removed]",
      "text/plain": [
       "<Figure size 432x288 with 1 Axes>"
      ]
     },
     "metadata": {
      "needs_background": "light"
     },
     "output_type": "display_data"
    }
   ],
   "source": [
    "losse[['accuracy','val_accuracy']].plot()\n"
   ]
  },
  {
   "cell_type": "code",
   "execution_count": 72,
   "id": "1e0a234e",
   "metadata": {},
   "outputs": [
    {
     "data": {
      "text/plain": [
       "<AxesSubplot:>"
      ]
     },
     "execution_count": 72,
     "metadata": {},
     "output_type": "execute_result"
    },
    {
     "data": {
      "image/png": "[encoded data removed]",
      "text/plain": [
       "<Figure size 432x288 with 1 Axes>"
      ]
     },
     "metadata": {
      "needs_background": "light"
     },
     "output_type": "display_data"
    }
   ],
   "source": [
    "losse[['loss','val_loss']].plot()\n"
   ]
  },
  {
   "cell_type": "code",
   "execution_count": null,
   "id": "35769533",
   "metadata": {},
   "outputs": [],
   "source": []
  }
 ],
 "metadata": {
  "kernelspec": {
   "display_name": "Python 3",
   "language": "python",
   "name": "python3"
  },
  "language_info": {
   "codemirror_mode": {
    "name": "ipython",
    "version": 3
   },
   "file_extension": ".py",
   "mimetype": "text/x-python",
   "name": "python",
   "nbconvert_exporter": "python",
   "pygments_lexer": "ipython3",
   "version": "3.8.8"
  }
 },
 "nbformat": 4,
 "nbformat_minor": 5
}
